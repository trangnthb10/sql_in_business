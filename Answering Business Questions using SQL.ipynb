{
 "cells": [
  {
   "cell_type": "markdown",
   "metadata": {},
   "source": [
    "# Answering Business Questions using SQL\n",
    "\n",
    "We are working for a company that sells and ships musical tracks to different countries. Customer can purchase single tracks from multiple albums or entire album in an invoice.\n",
    "\n",
    "One day, the manager want us to show him:\n",
    "- The number of tracks sold in the USA.\n",
    "- The total dollar amount of sales assigned to each sales support agent.\n",
    "- The total purchases from different countries.\n",
    "- The percentage of individual tracks and whole album purchases\n",
    "- The artist appears the most in playlists\n",
    "- The number of tracks has been purchased and not\n",
    "\n",
    "In this project, we will use the chinook dataset provided by Lerocha, which you can find in his [Github](https://github.com/lerocha/chinook-database). \n",
    "> Media related data was created using real data from an iTunes Library. Customer and employee information was manually created using fictitious names, addresses that can be located on Google maps, and other well formatted data (phone, fax, email, etc.). Sales information is auto generated using random data for a four year period."
   ]
  },
  {
   "cell_type": "code",
   "execution_count": 1,
   "metadata": {},
   "outputs": [],
   "source": [
    "%%capture\n",
    "%load_ext sql\n",
    "%sql sqlite:///chinook.db"
   ]
  },
  {
   "cell_type": "markdown",
   "metadata": {},
   "source": [
    "Retrieve existing tables and views from connected database"
   ]
  },
  {
   "cell_type": "code",
   "execution_count": 2,
   "metadata": {
    "scrolled": true
   },
   "outputs": [
    {
     "name": "stdout",
     "output_type": "stream",
     "text": [
      " * sqlite:///chinook.db\n",
      "Done.\n"
     ]
    },
    {
     "data": {
      "text/html": [
       "<table>\n",
       "    <tr>\n",
       "        <th>name</th>\n",
       "        <th>type</th>\n",
       "    </tr>\n",
       "    <tr>\n",
       "        <td>album</td>\n",
       "        <td>table</td>\n",
       "    </tr>\n",
       "    <tr>\n",
       "        <td>artist</td>\n",
       "        <td>table</td>\n",
       "    </tr>\n",
       "    <tr>\n",
       "        <td>customer</td>\n",
       "        <td>table</td>\n",
       "    </tr>\n",
       "    <tr>\n",
       "        <td>employee</td>\n",
       "        <td>table</td>\n",
       "    </tr>\n",
       "    <tr>\n",
       "        <td>genre</td>\n",
       "        <td>table</td>\n",
       "    </tr>\n",
       "    <tr>\n",
       "        <td>invoice</td>\n",
       "        <td>table</td>\n",
       "    </tr>\n",
       "    <tr>\n",
       "        <td>invoice_line</td>\n",
       "        <td>table</td>\n",
       "    </tr>\n",
       "    <tr>\n",
       "        <td>media_type</td>\n",
       "        <td>table</td>\n",
       "    </tr>\n",
       "    <tr>\n",
       "        <td>playlist</td>\n",
       "        <td>table</td>\n",
       "    </tr>\n",
       "    <tr>\n",
       "        <td>playlist_track</td>\n",
       "        <td>table</td>\n",
       "    </tr>\n",
       "    <tr>\n",
       "        <td>track</td>\n",
       "        <td>table</td>\n",
       "    </tr>\n",
       "</table>"
      ],
      "text/plain": [
       "[('album', 'table'),\n",
       " ('artist', 'table'),\n",
       " ('customer', 'table'),\n",
       " ('employee', 'table'),\n",
       " ('genre', 'table'),\n",
       " ('invoice', 'table'),\n",
       " ('invoice_line', 'table'),\n",
       " ('media_type', 'table'),\n",
       " ('playlist', 'table'),\n",
       " ('playlist_track', 'table'),\n",
       " ('track', 'table')]"
      ]
     },
     "execution_count": 2,
     "metadata": {},
     "output_type": "execute_result"
    }
   ],
   "source": [
    "%%sql\n",
    "SELECT name, \n",
    "        type\n",
    "FROM sqlite_master\n",
    "WHERE type IN('table','view');"
   ]
  },
  {
   "cell_type": "markdown",
   "metadata": {},
   "source": [
    "### Database schema diagram illustrates the structure of data tables\n",
    "<img src='schema.png'>"
   ]
  },
  {
   "cell_type": "markdown",
   "metadata": {},
   "source": [
    "## The number of tracks sold in the USA\n",
    "The store is planning to add three out of fours albums from this list <br>\n",
    "\n",
    "|Artist|Genre  |\n",
    "|------|-----  |\n",
    "|Regal |Hip-Hop|\n",
    "|Red Tone|Punk|\n",
    "|Meteor and the Girls|Pop|\n",
    "|Slim Jim Bites|Blues|\n",
    "\n",
    "The manager wants to know which are the top three genre among the four above."
   ]
  },
  {
   "cell_type": "markdown",
   "metadata": {},
   "source": [
    "Create a View to filter out purchases where billing_country is USA only"
   ]
  },
  {
   "cell_type": "code",
   "execution_count": 3,
   "metadata": {},
   "outputs": [
    {
     "name": "stdout",
     "output_type": "stream",
     "text": [
      " * sqlite:///chinook.db\n",
      "Done.\n"
     ]
    },
    {
     "data": {
      "text/plain": [
       "[]"
      ]
     },
     "execution_count": 3,
     "metadata": {},
     "output_type": "execute_result"
    }
   ],
   "source": [
    "%%sql\n",
    "CREATE VIEW usa_purchases AS\n",
    "SELECT invoice_id\n",
    "FROM invoice\n",
    "WHERE billing_country = 'USA';"
   ]
  },
  {
   "cell_type": "markdown",
   "metadata": {},
   "source": [
    "The manager wants to know the number of track sold in USA:\n",
    "- by genre\n",
    "- showed in track unit and percentage"
   ]
  },
  {
   "cell_type": "code",
   "execution_count": 16,
   "metadata": {
    "scrolled": true
   },
   "outputs": [
    {
     "name": "stdout",
     "output_type": "stream",
     "text": [
      " * sqlite:///chinook.db\n",
      "Done.\n"
     ]
    },
    {
     "data": {
      "text/html": [
       "<table>\n",
       "    <tr>\n",
       "        <th>genre</th>\n",
       "        <th>number_of_tracks</th>\n",
       "        <th>percentage</th>\n",
       "    </tr>\n",
       "    <tr>\n",
       "        <td>Rock</td>\n",
       "        <td>561</td>\n",
       "        <td>53</td>\n",
       "    </tr>\n",
       "    <tr>\n",
       "        <td>Alternative &amp; Punk</td>\n",
       "        <td>130</td>\n",
       "        <td>12</td>\n",
       "    </tr>\n",
       "    <tr>\n",
       "        <td>Metal</td>\n",
       "        <td>124</td>\n",
       "        <td>11</td>\n",
       "    </tr>\n",
       "    <tr>\n",
       "        <td>R&amp;B/Soul</td>\n",
       "        <td>53</td>\n",
       "        <td>5</td>\n",
       "    </tr>\n",
       "    <tr>\n",
       "        <td>Blues</td>\n",
       "        <td>36</td>\n",
       "        <td>3</td>\n",
       "    </tr>\n",
       "    <tr>\n",
       "        <td>Alternative</td>\n",
       "        <td>35</td>\n",
       "        <td>3</td>\n",
       "    </tr>\n",
       "    <tr>\n",
       "        <td>Pop</td>\n",
       "        <td>22</td>\n",
       "        <td>2</td>\n",
       "    </tr>\n",
       "    <tr>\n",
       "        <td>Latin</td>\n",
       "        <td>22</td>\n",
       "        <td>2</td>\n",
       "    </tr>\n",
       "    <tr>\n",
       "        <td>Hip Hop/Rap</td>\n",
       "        <td>20</td>\n",
       "        <td>1</td>\n",
       "    </tr>\n",
       "    <tr>\n",
       "        <td>Jazz</td>\n",
       "        <td>14</td>\n",
       "        <td>1</td>\n",
       "    </tr>\n",
       "    <tr>\n",
       "        <td>Easy Listening</td>\n",
       "        <td>13</td>\n",
       "        <td>1</td>\n",
       "    </tr>\n",
       "    <tr>\n",
       "        <td>Reggae</td>\n",
       "        <td>6</td>\n",
       "        <td>0</td>\n",
       "    </tr>\n",
       "    <tr>\n",
       "        <td>Electronica/Dance</td>\n",
       "        <td>5</td>\n",
       "        <td>0</td>\n",
       "    </tr>\n",
       "    <tr>\n",
       "        <td>Classical</td>\n",
       "        <td>4</td>\n",
       "        <td>0</td>\n",
       "    </tr>\n",
       "    <tr>\n",
       "        <td>Heavy Metal</td>\n",
       "        <td>3</td>\n",
       "        <td>0</td>\n",
       "    </tr>\n",
       "    <tr>\n",
       "        <td>Soundtrack</td>\n",
       "        <td>2</td>\n",
       "        <td>0</td>\n",
       "    </tr>\n",
       "    <tr>\n",
       "        <td>TV Shows</td>\n",
       "        <td>1</td>\n",
       "        <td>0</td>\n",
       "    </tr>\n",
       "</table>"
      ],
      "text/plain": [
       "[('Rock', 561, 53),\n",
       " ('Alternative & Punk', 130, 12),\n",
       " ('Metal', 124, 11),\n",
       " ('R&B/Soul', 53, 5),\n",
       " ('Blues', 36, 3),\n",
       " ('Alternative', 35, 3),\n",
       " ('Pop', 22, 2),\n",
       " ('Latin', 22, 2),\n",
       " ('Hip Hop/Rap', 20, 1),\n",
       " ('Jazz', 14, 1),\n",
       " ('Easy Listening', 13, 1),\n",
       " ('Reggae', 6, 0),\n",
       " ('Electronica/Dance', 5, 0),\n",
       " ('Classical', 4, 0),\n",
       " ('Heavy Metal', 3, 0),\n",
       " ('Soundtrack', 2, 0),\n",
       " ('TV Shows', 1, 0)]"
      ]
     },
     "execution_count": 16,
     "metadata": {},
     "output_type": "execute_result"
    }
   ],
   "source": [
    "%%sql\n",
    "SELECT g.name genre, SUM(il.quantity) number_of_tracks,\n",
    "        SUM(il.quantity)*100/\n",
    "                  (SELECT SUM(il.quantity)\n",
    "                    FROM invoice_line il\n",
    "                    JOIN usa_purchases pc \n",
    "                    ON il.invoice_id = pc.invoice_id) percentage\n",
    "FROM genre g\n",
    "JOIN track t ON g.genre_id = t.genre_id\n",
    "JOIN invoice_line il ON il.track_id = t.track_id\n",
    "JOIN usa_purchases pc ON pc.invoice_id = il.invoice_id\n",
    "GROUP BY 1  \n",
    "ORDER BY 2 DESC"
   ]
  },
  {
   "cell_type": "markdown",
   "metadata": {},
   "source": [
    "Hip Hop has the least sales of tracks being sold.<br>\n",
    "\n",
    "Among four genres (Hip-Hop, Punk, Pop, Blues), the later three genres should be chosen to sell in the USA.<br>"
   ]
  },
  {
   "cell_type": "markdown",
   "metadata": {},
   "source": [
    "## The total dollar amount of sales assigned to each sales support agent\n",
    "\n",
    "Each customer get assigned to a sales support agent when they make the first purchase.\n",
    "\n",
    "The manager wants to review performance of sales support agent. He asked us to provide sales data for all of them."
   ]
  },
  {
   "cell_type": "code",
   "execution_count": 34,
   "metadata": {},
   "outputs": [
    {
     "name": "stdout",
     "output_type": "stream",
     "text": [
      " * sqlite:///chinook.db\n",
      "Done.\n"
     ]
    },
    {
     "data": {
      "text/html": [
       "<table>\n",
       "    <tr>\n",
       "        <th>agent</th>\n",
       "        <th>title</th>\n",
       "        <th>hire_date</th>\n",
       "        <th>sales</th>\n",
       "        <th>num_of_customers</th>\n",
       "    </tr>\n",
       "    <tr>\n",
       "        <td>Jane Peacock</td>\n",
       "        <td>Sales Support Agent</td>\n",
       "        <td>2017-04-01</td>\n",
       "        <td>1731.5</td>\n",
       "        <td>21</td>\n",
       "    </tr>\n",
       "    <tr>\n",
       "        <td>Margaret Park</td>\n",
       "        <td>Sales Support Agent</td>\n",
       "        <td>2017-05-03</td>\n",
       "        <td>1584.0</td>\n",
       "        <td>20</td>\n",
       "    </tr>\n",
       "    <tr>\n",
       "        <td>Steve Johnson</td>\n",
       "        <td>Sales Support Agent</td>\n",
       "        <td>2017-10-17</td>\n",
       "        <td>1393.9</td>\n",
       "        <td>18</td>\n",
       "    </tr>\n",
       "</table>"
      ],
      "text/plain": [
       "[('Jane Peacock', 'Sales Support Agent', '2017-04-01', 1731.5, 21),\n",
       " ('Margaret Park', 'Sales Support Agent', '2017-05-03', 1584.0, 20),\n",
       " ('Steve Johnson', 'Sales Support Agent', '2017-10-17', 1393.9, 18)]"
      ]
     },
     "execution_count": 34,
     "metadata": {},
     "output_type": "execute_result"
    }
   ],
   "source": [
    "%%sql\n",
    "WITH customers_purchases AS\n",
    "    (SELECT i.customer_id, c.support_rep_id, SUM(i.total) total_purchases\n",
    "    FROM invoice i JOIN customer c\n",
    "    ON i.customer_id = c.customer_id\n",
    "    GROUP BY 1)\n",
    "\n",
    "SELECT e.first_name ||' '|| e.last_name agent,\n",
    "        e.title, SUBSTR(e.hire_date,1,10) hire_date,\n",
    "        ROUND(SUM(cp.total_purchases),1) sales,\n",
    "        COUNT(cp.customer_id) num_of_customers\n",
    "FROM employee e\n",
    "JOIN customers_purchases cp ON cp.support_rep_id = e.employee_id\n",
    "GROUP BY 1\n",
    "HAVING e.title LIKE '%Agent%'\n",
    "ORDER BY 4 DESC"
   ]
  },
  {
   "cell_type": "markdown",
   "metadata": {},
   "source": [
    "From the above data, we can tell Jane has the most number of customers and total sales. Following by Margaret and Steve, respectively. <br>\n",
    "\n",
    "The more customers a sale agent has, the higher sales agent had.<br>\n",
    "\n",
    "To be fair, Steve joined the company 6 months after Jane, it makes sense when he came in last rank."
   ]
  },
  {
   "cell_type": "markdown",
   "metadata": {},
   "source": [
    "## The total purchases from different countries\n",
    "The manager also wants to know following information based on countries:\n",
    "- Total number of customers\n",
    "- Total sales\n",
    "- Average sales per customer\n",
    "- Average order value\n",
    "\n",
    "However, he wants all countries with only one customer are grouped into one group."
   ]
  },
  {
   "cell_type": "code",
   "execution_count": 7,
   "metadata": {},
   "outputs": [
    {
     "name": "stdout",
     "output_type": "stream",
     "text": [
      " * sqlite:///chinook.db\n",
      "Done.\n"
     ]
    },
    {
     "data": {
      "text/html": [
       "<table>\n",
       "    <tr>\n",
       "        <th>country</th>\n",
       "        <th>num_of_customers</th>\n",
       "        <th>total_sales</th>\n",
       "        <th>avg_sales_per_customer</th>\n",
       "        <th>avg_order_value</th>\n",
       "    </tr>\n",
       "    <tr>\n",
       "        <td>India</td>\n",
       "        <td>2</td>\n",
       "        <td>183.15</td>\n",
       "        <td>91.58</td>\n",
       "        <td>8.72</td>\n",
       "    </tr>\n",
       "    <tr>\n",
       "        <td>Portugal</td>\n",
       "        <td>2</td>\n",
       "        <td>185.13</td>\n",
       "        <td>92.57</td>\n",
       "        <td>6.38</td>\n",
       "    </tr>\n",
       "    <tr>\n",
       "        <td>United Kingdom</td>\n",
       "        <td>3</td>\n",
       "        <td>245.52</td>\n",
       "        <td>81.84</td>\n",
       "        <td>8.77</td>\n",
       "    </tr>\n",
       "    <tr>\n",
       "        <td>Czech Republic</td>\n",
       "        <td>2</td>\n",
       "        <td>273.24</td>\n",
       "        <td>136.62</td>\n",
       "        <td>9.11</td>\n",
       "    </tr>\n",
       "    <tr>\n",
       "        <td>Germany</td>\n",
       "        <td>4</td>\n",
       "        <td>334.62</td>\n",
       "        <td>83.66</td>\n",
       "        <td>8.16</td>\n",
       "    </tr>\n",
       "    <tr>\n",
       "        <td>France</td>\n",
       "        <td>5</td>\n",
       "        <td>389.07</td>\n",
       "        <td>77.81</td>\n",
       "        <td>7.78</td>\n",
       "    </tr>\n",
       "    <tr>\n",
       "        <td>Brazil</td>\n",
       "        <td>5</td>\n",
       "        <td>427.68</td>\n",
       "        <td>85.54</td>\n",
       "        <td>7.01</td>\n",
       "    </tr>\n",
       "    <tr>\n",
       "        <td>Canada</td>\n",
       "        <td>8</td>\n",
       "        <td>535.59</td>\n",
       "        <td>66.95</td>\n",
       "        <td>7.05</td>\n",
       "    </tr>\n",
       "    <tr>\n",
       "        <td>USA</td>\n",
       "        <td>13</td>\n",
       "        <td>1040.49</td>\n",
       "        <td>80.04</td>\n",
       "        <td>7.94</td>\n",
       "    </tr>\n",
       "    <tr>\n",
       "        <td>Other</td>\n",
       "        <td>15</td>\n",
       "        <td>1094.94</td>\n",
       "        <td>1094.94</td>\n",
       "        <td>111.66</td>\n",
       "    </tr>\n",
       "</table>"
      ],
      "text/plain": [
       "[('India', 2, 183.15, 91.58, 8.72),\n",
       " ('Portugal', 2, 185.13, 92.57, 6.38),\n",
       " ('United Kingdom', 3, 245.52, 81.84, 8.77),\n",
       " ('Czech Republic', 2, 273.24, 136.62, 9.11),\n",
       " ('Germany', 4, 334.62, 83.66, 8.16),\n",
       " ('France', 5, 389.07, 77.81, 7.78),\n",
       " ('Brazil', 5, 427.68, 85.54, 7.01),\n",
       " ('Canada', 8, 535.59, 66.95, 7.05),\n",
       " ('USA', 13, 1040.49, 80.04, 7.94),\n",
       " ('Other', 15, 1094.94, 1094.94, 111.66)]"
      ]
     },
     "execution_count": 7,
     "metadata": {},
     "output_type": "execute_result"
    }
   ],
   "source": [
    "%%sql\n",
    "WITH sales_by_country AS\n",
    "(SELECT c.country, COUNT(DISTINCT(c.customer_id)) num_of_customers,\n",
    "        ROUND(SUM(i.total),2) total_sales,\n",
    "        ROUND(SUM(i.total)/COUNT(DISTINCT(c.customer_id)),2) avg_sales_per_customer,\n",
    "        ROUND(SUM(i.total)/COUNT(i.invoice_id),2) avg_order_value,\n",
    "        CASE  \n",
    "            WHEN COUNT(DISTINCT(c.customer_id)) = 1 THEN 'Other'\n",
    "            ELSE c.country\n",
    "        END AS category,\n",
    "        CASE\n",
    "            WHEN COUNT(DISTINCT(c.customer_id)) = 1 THEN 1 ELSE 0 \n",
    "        END AS sort\n",
    "FROM customer c \n",
    "JOIN invoice i ON c.customer_id = i.customer_id\n",
    "GROUP BY 1\n",
    "ORDER BY 2 DESC)\n",
    "SELECT category country, SUM(num_of_customers) num_of_customers, \n",
    "        SUM(total_sales) total_sales, \n",
    "        SUM(avg_sales_per_customer) avg_sales_per_customer,\n",
    "        SUM(avg_order_value) avg_order_value\n",
    "FROM sales_by_country\n",
    "GROUP BY 1\n",
    "ORDER BY sort, 3"
   ]
  },
  {
   "cell_type": "markdown",
   "metadata": {},
   "source": [
    "## The percentage of individual tracks and whole album purchases\n",
    "\n",
    "Customers can make purchase of:\n",
    "- A whole album\n",
    "- A collection of one or more individual tracks.\n",
    "\n",
    "The store doesn't let customer purchase the whole album and add additional individual tracks.\n",
    "\n",
    "Management are currently considering changing their purchasing strategy to save money. The strategy they are considering is to purchase only the most popular tracks from each album from record companies, instead of purchasing every track from an album.\n",
    "\n",
    "The manager asked us the percentage of purchases that consists of individual tracks and album tracks.<br>\n",
    "\n",
    "If the purchase is for whole album, all tracks in the invoice should be the same as all tracks in an album. To determine an album purchase: <br>\n",
    "- Pick any track from the invoice\n",
    "- Find its album\n",
    "- Compare the tracks from album to tracks from invoice"
   ]
  },
  {
   "cell_type": "code",
   "execution_count": 8,
   "metadata": {
    "scrolled": true
   },
   "outputs": [
    {
     "name": "stdout",
     "output_type": "stream",
     "text": [
      " * sqlite:///chinook.db\n",
      "Done.\n"
     ]
    },
    {
     "data": {
      "text/html": [
       "<table>\n",
       "    <tr>\n",
       "        <th>album_purchase</th>\n",
       "        <th>number_of_invoices</th>\n",
       "        <th>percentage_of_invoices</th>\n",
       "    </tr>\n",
       "    <tr>\n",
       "        <td>no</td>\n",
       "        <td>500</td>\n",
       "        <td>81.43</td>\n",
       "    </tr>\n",
       "    <tr>\n",
       "        <td>yes</td>\n",
       "        <td>114</td>\n",
       "        <td>18.57</td>\n",
       "    </tr>\n",
       "</table>"
      ],
      "text/plain": [
       "[('no', 500, 81.43), ('yes', 114, 18.57)]"
      ]
     },
     "execution_count": 8,
     "metadata": {},
     "output_type": "execute_result"
    }
   ],
   "source": [
    "%%sql\n",
    "WITH invoice_album AS\n",
    "(SELECT il.invoice_id, il.track_id, t.album_id\n",
    "FROM invoice_line il\n",
    "JOIN track t ON il.track_id = t.track_id\n",
    "GROUP BY 1)\n",
    "SELECT album_purchase, COUNT(invoice_id) number_of_invoices,\n",
    "        ROUND(CAST(COUNT(invoice_id) AS FLOAT)/\n",
    "              (SELECT COUNT(invoice_id)\n",
    "               FROM invoice)*100,2) percentage_of_invoices\n",
    "FROM\n",
    "(SELECT invoice_id, \n",
    "    CASE\n",
    "        WHEN \n",
    "            (SELECT il.track_id\n",
    "             FROM invoice_line il\n",
    "             WHERE il.invoice_id = ia.invoice_id\n",
    "        EXCEPT\n",
    "            SELECT t.track_id\n",
    "            FROM track t\n",
    "            WHERE t.album_id = ia.album_id) IS NULL\n",
    "        AND\n",
    "            (SELECT t.track_id\n",
    "            FROM track t\n",
    "            WHERE t.album_id = ia.album_id \n",
    "        EXCEPT\n",
    "            SELECT il.track_id\n",
    "            FROM invoice_line il\n",
    "            WHERE il.invoice_id = ia.invoice_id) IS NULL\n",
    "        THEN 'yes' ELSE 'no' END AS 'album_purchase'\n",
    "FROM invoice_album ia)\n",
    "GROUP BY 1"
   ]
  },
  {
   "cell_type": "markdown",
   "metadata": {},
   "source": [
    "Out of 614 purchases, there are 114 whole-album purchases.<br>\n",
    "\n",
    "Album purchase makes up approximately 19% of purchases."
   ]
  },
  {
   "cell_type": "markdown",
   "metadata": {},
   "source": [
    "## The number of tracks have been purchased vs not purchased\n",
    "The manager wants to understand customers' demand better that he asked us to provide the number of tracks that have been purchased or not."
   ]
  },
  {
   "cell_type": "code",
   "execution_count": 56,
   "metadata": {},
   "outputs": [
    {
     "name": "stdout",
     "output_type": "stream",
     "text": [
      " * sqlite:///chinook.db\n",
      "Done.\n"
     ]
    },
    {
     "data": {
      "text/html": [
       "<table>\n",
       "    <tr>\n",
       "        <th>COUNT(*)</th>\n",
       "    </tr>\n",
       "    <tr>\n",
       "        <td>3503</td>\n",
       "    </tr>\n",
       "</table>"
      ],
      "text/plain": [
       "[(3503,)]"
      ]
     },
     "execution_count": 56,
     "metadata": {},
     "output_type": "execute_result"
    }
   ],
   "source": [
    "%%sql\n",
    "SELECT COUNT(*) FROM track"
   ]
  },
  {
   "cell_type": "code",
   "execution_count": 69,
   "metadata": {},
   "outputs": [
    {
     "name": "stdout",
     "output_type": "stream",
     "text": [
      " * sqlite:///chinook.db\n",
      "Done.\n"
     ]
    },
    {
     "data": {
      "text/html": [
       "<table>\n",
       "    <tr>\n",
       "        <th>purchased</th>\n",
       "        <th>num_of_tracks</th>\n",
       "    </tr>\n",
       "    <tr>\n",
       "        <td>no</td>\n",
       "        <td>1697</td>\n",
       "    </tr>\n",
       "    <tr>\n",
       "        <td>yes</td>\n",
       "        <td>1806</td>\n",
       "    </tr>\n",
       "</table>"
      ],
      "text/plain": [
       "[('no', 1697), ('yes', 1806)]"
      ]
     },
     "execution_count": 69,
     "metadata": {},
     "output_type": "execute_result"
    }
   ],
   "source": [
    "%%sql\n",
    "WITH track_purchases AS\n",
    "(SELECT track_id, \n",
    "    CASE WHEN track_id IN (SELECT DISTINCT(track_id)\n",
    "                          FROM invoice_line)\n",
    "    THEN 'yes' ELSE 'no'\n",
    "    END AS purchased\n",
    "FROM track)\n",
    "\n",
    "SELECT purchased, COUNT(*) num_of_tracks\n",
    "FROM track_purchases\n",
    "GROUP BY purchased"
   ]
  },
  {
   "cell_type": "markdown",
   "metadata": {},
   "source": [
    "The store has almost 50% of track inventory has not been sold. We need to come up with a promotion to boost sales for these tracks. <br>\n",
    "\n",
    "Let's take a look into which genre the store still have the most of."
   ]
  },
  {
   "cell_type": "code",
   "execution_count": 107,
   "metadata": {},
   "outputs": [
    {
     "name": "stdout",
     "output_type": "stream",
     "text": [
      " * sqlite:///chinook.db\n",
      "Done.\n"
     ]
    },
    {
     "data": {
      "text/html": [
       "<table>\n",
       "    <tr>\n",
       "        <th>genre</th>\n",
       "        <th>num_of_unsold_tracks</th>\n",
       "    </tr>\n",
       "    <tr>\n",
       "        <td>Latin</td>\n",
       "        <td>579</td>\n",
       "    </tr>\n",
       "    <tr>\n",
       "        <td>Alternative &amp; Punk</td>\n",
       "        <td>332</td>\n",
       "    </tr>\n",
       "    <tr>\n",
       "        <td>TV Shows</td>\n",
       "        <td>93</td>\n",
       "    </tr>\n",
       "    <tr>\n",
       "        <td>Drama</td>\n",
       "        <td>64</td>\n",
       "    </tr>\n",
       "    <tr>\n",
       "        <td>Reggae</td>\n",
       "        <td>58</td>\n",
       "    </tr>\n",
       "    <tr>\n",
       "        <td>Pop</td>\n",
       "        <td>48</td>\n",
       "    </tr>\n",
       "    <tr>\n",
       "        <td>Soundtrack</td>\n",
       "        <td>43</td>\n",
       "    </tr>\n",
       "    <tr>\n",
       "        <td>Hip Hop/Rap</td>\n",
       "        <td>35</td>\n",
       "    </tr>\n",
       "    <tr>\n",
       "        <td>World</td>\n",
       "        <td>28</td>\n",
       "    </tr>\n",
       "    <tr>\n",
       "        <td>Heavy Metal</td>\n",
       "        <td>28</td>\n",
       "    </tr>\n",
       "    <tr>\n",
       "        <td>Sci Fi &amp; Fantasy</td>\n",
       "        <td>26</td>\n",
       "    </tr>\n",
       "    <tr>\n",
       "        <td>Comedy</td>\n",
       "        <td>17</td>\n",
       "    </tr>\n",
       "    <tr>\n",
       "        <td>Bossa Nova</td>\n",
       "        <td>15</td>\n",
       "    </tr>\n",
       "    <tr>\n",
       "        <td>Science Fiction</td>\n",
       "        <td>13</td>\n",
       "    </tr>\n",
       "    <tr>\n",
       "        <td>Rock And Roll</td>\n",
       "        <td>12</td>\n",
       "    </tr>\n",
       "    <tr>\n",
       "        <td>Opera</td>\n",
       "        <td>1</td>\n",
       "    </tr>\n",
       "</table>"
      ],
      "text/plain": [
       "[('Latin', 579),\n",
       " ('Alternative & Punk', 332),\n",
       " ('TV Shows', 93),\n",
       " ('Drama', 64),\n",
       " ('Reggae', 58),\n",
       " ('Pop', 48),\n",
       " ('Soundtrack', 43),\n",
       " ('Hip Hop/Rap', 35),\n",
       " ('World', 28),\n",
       " ('Heavy Metal', 28),\n",
       " ('Sci Fi & Fantasy', 26),\n",
       " ('Comedy', 17),\n",
       " ('Bossa Nova', 15),\n",
       " ('Science Fiction', 13),\n",
       " ('Rock And Roll', 12),\n",
       " ('Opera', 1)]"
      ]
     },
     "execution_count": 107,
     "metadata": {},
     "output_type": "execute_result"
    }
   ],
   "source": [
    "%%sql\n",
    "WITH tracks_purchases AS\n",
    "(SELECT t.track_id, g.name genre, \n",
    "    CASE WHEN track_id IN (SELECT DISTINCT(track_id)\n",
    "                          FROM invoice_line)\n",
    "    THEN 'yes' ELSE 'no'\n",
    "    END AS purchased\n",
    "FROM track t\n",
    "JOIN genre g ON t.genre_id = g.genre_id)\n",
    "\n",
    "SELECT tp.genre, COUNT(*) num_of_unsold_tracks\n",
    "FROM tracks_purchases tp\n",
    "JOIN track t ON t.track_id = tp.track_id\n",
    "GROUP BY 1\n",
    "HAVING purchased = 'no'\n",
    "ORDER BY 2 DESC"
   ]
  },
  {
   "cell_type": "markdown",
   "metadata": {},
   "source": [
    "One third of the inventory belongs to Latin genre. <br>\n",
    "The next genre with high inventory is Alternative & Punk.<br>"
   ]
  },
  {
   "cell_type": "markdown",
   "metadata": {},
   "source": [
    "## The artist is used in the most playlists"
   ]
  },
  {
   "cell_type": "code",
   "execution_count": 53,
   "metadata": {},
   "outputs": [
    {
     "name": "stdout",
     "output_type": "stream",
     "text": [
      " * sqlite:///chinook.db\n",
      "Done.\n"
     ]
    },
    {
     "data": {
      "text/html": [
       "<table>\n",
       "    <tr>\n",
       "        <th>artist_name</th>\n",
       "        <th>num_of_playlists</th>\n",
       "    </tr>\n",
       "    <tr>\n",
       "        <td>Eugene Ormandy</td>\n",
       "        <td>7</td>\n",
       "    </tr>\n",
       "    <tr>\n",
       "        <td>The King&#x27;s Singers</td>\n",
       "        <td>6</td>\n",
       "    </tr>\n",
       "    <tr>\n",
       "        <td>English Concert &amp; Trevor Pinnock</td>\n",
       "        <td>6</td>\n",
       "    </tr>\n",
       "    <tr>\n",
       "        <td>Berliner Philharmoniker &amp; Herbert Von Karajan</td>\n",
       "        <td>6</td>\n",
       "    </tr>\n",
       "    <tr>\n",
       "        <td>Academy of St. Martin in the Fields &amp; Sir Neville Marriner</td>\n",
       "        <td>6</td>\n",
       "    </tr>\n",
       "    <tr>\n",
       "        <td>Yo-Yo Ma</td>\n",
       "        <td>5</td>\n",
       "    </tr>\n",
       "</table>"
      ],
      "text/plain": [
       "[('Eugene Ormandy', 7),\n",
       " (\"The King's Singers\", 6),\n",
       " ('English Concert & Trevor Pinnock', 6),\n",
       " ('Berliner Philharmoniker & Herbert Von Karajan', 6),\n",
       " ('Academy of St. Martin in the Fields & Sir Neville Marriner', 6),\n",
       " ('Yo-Yo Ma', 5)]"
      ]
     },
     "execution_count": 53,
     "metadata": {},
     "output_type": "execute_result"
    }
   ],
   "source": [
    "%%sql\n",
    "SELECT artist_name, COUNT(DISTINCT(playlist_id)) num_of_playlists\n",
    "FROM\n",
    "    (SELECT pt.playlist_id, pt.track_id, at.name artist_name\n",
    "    FROM playlist_track pt\n",
    "    JOIN track t ON t.track_id = pt.track_id\n",
    "    JOIN album ab ON ab.album_id = t.album_id\n",
    "    JOIN artist at ON at.artist_id = ab.artist_id)\n",
    "GROUP BY 1\n",
    "ORDER BY 2 DESC\n",
    "LIMIT 6;"
   ]
  },
  {
   "cell_type": "markdown",
   "metadata": {},
   "source": [
    "Eugene Ormandy is used in 7 playlists."
   ]
  },
  {
   "cell_type": "markdown",
   "metadata": {},
   "source": [
    "## Conclusion\n",
    "From the analysis above, we found that:\n",
    "#### Country\n",
    "- USA leads with total sales of 1,040 dollars from 13 customers.\n",
    "- The second biggest market is Canada with 8 customers and 536 dollars.\n",
    "\n",
    "#### Genre\n",
    "- Rock is the most popular genre in the U.S, which makes up 53% of sales.\n",
    "- Next in line are Alternative & Punk, Metal, R&B/Soul with 12%, 11%, 5% respectively.\n",
    "\n",
    "#### Purchase type\n",
    "- Customers tend to buy individual tracks four times more than whole album. The management can go forward with the new strategy.\n",
    "\n",
    "#### Sales by Agent\n",
    "- The more customers a sale agent has, the higher sales that agent had.\n",
    "\n",
    "#### Inventory\n",
    "- Approximately 1,700 tracks still have not been sold.\n",
    "- One third of that is in Latin genre\n",
    "\n",
    "#### Artist\n",
    "- Eugene Ormandy appears in 7 playlists."
   ]
  }
 ],
 "metadata": {
  "kernelspec": {
   "display_name": "Python 3",
   "language": "python",
   "name": "python3"
  },
  "language_info": {
   "codemirror_mode": {
    "name": "ipython",
    "version": 3
   },
   "file_extension": ".py",
   "mimetype": "text/x-python",
   "name": "python",
   "nbconvert_exporter": "python",
   "pygments_lexer": "ipython3",
   "version": "3.7.6"
  }
 },
 "nbformat": 4,
 "nbformat_minor": 4
}
